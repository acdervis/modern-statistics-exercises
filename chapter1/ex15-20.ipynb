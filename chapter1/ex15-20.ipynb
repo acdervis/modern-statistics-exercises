{
 "cells": [
  {
   "cell_type": "markdown",
   "metadata": {},
   "source": [
    "## Exercise 15\n",
    "\n",
    "1. * number of \"Fiona\" baby name registrations/births per year\n",
    "   * region\n",
    "2. * births: numerical / discrete\n",
    "   * region: categorical / nominal\n",
    "\n",
    "## Exercise 16\n",
    "\n",
    "1. * rating: categorical / ordinal\n",
    "   * country: categorical / nominal\n",
    "   * release year: numerical / discrete\n",
    "\n",
    "## Exercise 17\n",
    "\n",
    "1. * driver race/ethnicity\n",
    "   * arrested (y/n)\n",
    "   * car searched (y/n)\n",
    "   * state\n",
    "   * county\n",
    "2. * County: categorical / nominal\n",
    "   * State: categorical / nominal\n",
    "   * Driver Race: categorical / nominal\n",
    "   * Arrest Rate: numerical / continuous\n",
    "   * Search Rate: numerical / continuous\n",
    "3. Response: search rate, explanatory: driver race\n",
    "\n",
    "## Exercise 18\n",
    "\n",
    "1. agency-type, success (y/n), year\n",
    "2. * agency-type: categorical / nominal\n",
    "   * success: categorical / nominal\n",
    "   * year: numerical / discrete\n",
    "3. Response: success, explanatory: agency-type\n",
    "\n",
    "## Exercise 19\n",
    "\n",
    "1. observational\n",
    "2. Dog: Lucy, Cat: Luna\n",
    "3. Oliver and Lily\n",
    "4. Positive. In this context it means that the as the popularity for dogs increases, so does it for cats.\n",
    "\n",
    "## Exercise 20\n",
    "\n",
    "1. experimental\n",
    "2. unknown, would have to analyze the data"
   ]
  }
 ],
 "metadata": {
  "language_info": {
   "name": "python"
  }
 },
 "nbformat": 4,
 "nbformat_minor": 2
}
