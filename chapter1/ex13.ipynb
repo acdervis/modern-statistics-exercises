{
 "cells": [
  {
   "cell_type": "markdown",
   "metadata": {},
   "source": [
    "## Exercise 13"
   ]
  },
  {
   "cell_type": "code",
   "execution_count": 1,
   "metadata": {},
   "outputs": [
    {
     "data": {
      "text/html": [
       "<div><style>\n",
       ".dataframe > thead > tr > th,\n",
       ".dataframe > tbody > tr > td {\n",
       "  text-align: right;\n",
       "  white-space: pre-wrap;\n",
       "}\n",
       "</style>\n",
       "<small>shape: (9, 15)</small><table border=\"1\" class=\"dataframe\"><thead><tr><th>describe</th><th>effective_date</th><th>state</th><th>region</th><th>ado</th><th>city</th><th>county</th><th>facility_name</th><th>ownership</th><th>use</th><th>location_id</th><th>site_number</th><th>arp_latitude</th><th>arp_longitude</th><th>cert_type_date</th></tr><tr><td>str</td><td>str</td><td>str</td><td>str</td><td>str</td><td>str</td><td>str</td><td>str</td><td>str</td><td>str</td><td>str</td><td>str</td><td>str</td><td>str</td><td>str</td></tr></thead><tbody><tr><td>&quot;count&quot;</td><td>&quot;19615&quot;</td><td>&quot;19615&quot;</td><td>&quot;19615&quot;</td><td>&quot;19615&quot;</td><td>&quot;19615&quot;</td><td>&quot;19615&quot;</td><td>&quot;19615&quot;</td><td>&quot;19615&quot;</td><td>&quot;19615&quot;</td><td>&quot;19615&quot;</td><td>&quot;19615&quot;</td><td>&quot;19615&quot;</td><td>&quot;19615&quot;</td><td>&quot;19615&quot;</td></tr><tr><td>&quot;null_count&quot;</td><td>&quot;0&quot;</td><td>&quot;0&quot;</td><td>&quot;0&quot;</td><td>&quot;0&quot;</td><td>&quot;0&quot;</td><td>&quot;0&quot;</td><td>&quot;0&quot;</td><td>&quot;0&quot;</td><td>&quot;0&quot;</td><td>&quot;0&quot;</td><td>&quot;0&quot;</td><td>&quot;0&quot;</td><td>&quot;0&quot;</td><td>&quot;0&quot;</td></tr><tr><td>&quot;mean&quot;</td><td>null</td><td>null</td><td>null</td><td>null</td><td>null</td><td>null</td><td>null</td><td>null</td><td>null</td><td>null</td><td>null</td><td>null</td><td>null</td><td>null</td></tr><tr><td>&quot;std&quot;</td><td>null</td><td>null</td><td>null</td><td>null</td><td>null</td><td>null</td><td>null</td><td>null</td><td>null</td><td>null</td><td>null</td><td>null</td><td>null</td><td>null</td></tr><tr><td>&quot;min&quot;</td><td>&quot;2018-07-19&quot;</td><td>&quot;AK&quot;</td><td>&quot;AAL&quot;</td><td>&quot;AOK&quot;</td><td>&quot;ABBEVILLE&quot;</td><td>&quot;#NAME?&quot;</td><td>&quot;100 AKER WOOD&quot;</td><td>&quot;CG&quot;</td><td>&quot;PR&quot;</td><td>&quot;0.00E+00&quot;</td><td>&quot;00103.*A&quot;</td><td>&quot;05-53-00.0000N…</td><td>&quot;064-42-17.5120…</td><td>&quot;I A S 01/1983&quot;</td></tr><tr><td>&quot;25%&quot;</td><td>null</td><td>null</td><td>null</td><td>null</td><td>null</td><td>null</td><td>null</td><td>null</td><td>null</td><td>null</td><td>null</td><td>null</td><td>null</td><td>null</td></tr><tr><td>&quot;50%&quot;</td><td>null</td><td>null</td><td>null</td><td>null</td><td>null</td><td>null</td><td>null</td><td>null</td><td>null</td><td>null</td><td>null</td><td>null</td><td>null</td><td>null</td></tr><tr><td>&quot;75%&quot;</td><td>null</td><td>null</td><td>null</td><td>null</td><td>null</td><td>null</td><td>null</td><td>null</td><td>null</td><td>null</td><td>null</td><td>null</td><td>null</td><td>null</td></tr><tr><td>&quot;max&quot;</td><td>&quot;2018-07-19&quot;</td><td>&quot;WY&quot;</td><td>&quot;AWP&quot;</td><td>&quot;TEX&quot;</td><td>&quot;ZWOLLE&quot;</td><td>&quot;ZIEBACH&quot;</td><td>&quot;ZWAINZ FARMS&quot;</td><td>&quot;PU&quot;</td><td>&quot;PU&quot;</td><td>&quot;ZZV&quot;</td><td>&quot;55058.*H&quot;</td><td>&quot;71-17-05.5000N…</td><td>&quot;177-22-52.7100…</td><td>&quot;NA&quot;</td></tr></tbody></table></div>"
      ],
      "text/plain": [
       "shape: (9, 15)\n",
       "┌────────────┬────────────┬───────┬────────┬───┬────────────┬────────────┬────────────┬────────────┐\n",
       "│ describe   ┆ effective_ ┆ state ┆ region ┆ … ┆ site_numbe ┆ arp_latitu ┆ arp_longit ┆ cert_type_ │\n",
       "│ ---        ┆ date       ┆ ---   ┆ ---    ┆   ┆ r          ┆ de         ┆ ude        ┆ date       │\n",
       "│ str        ┆ ---        ┆ str   ┆ str    ┆   ┆ ---        ┆ ---        ┆ ---        ┆ ---        │\n",
       "│            ┆ str        ┆       ┆        ┆   ┆ str        ┆ str        ┆ str        ┆ str        │\n",
       "╞════════════╪════════════╪═══════╪════════╪═══╪════════════╪════════════╪════════════╪════════════╡\n",
       "│ count      ┆ 19615      ┆ 19615 ┆ 19615  ┆ … ┆ 19615      ┆ 19615      ┆ 19615      ┆ 19615      │\n",
       "│ null_count ┆ 0          ┆ 0     ┆ 0      ┆ … ┆ 0          ┆ 0          ┆ 0          ┆ 0          │\n",
       "│ mean       ┆ null       ┆ null  ┆ null   ┆ … ┆ null       ┆ null       ┆ null       ┆ null       │\n",
       "│ std        ┆ null       ┆ null  ┆ null   ┆ … ┆ null       ┆ null       ┆ null       ┆ null       │\n",
       "│ min        ┆ 2018-07-19 ┆ AK    ┆ AAL    ┆ … ┆ 00103.*A   ┆ 05-53-00.0 ┆ 064-42-17. ┆ I A S      │\n",
       "│            ┆            ┆       ┆        ┆   ┆            ┆ 000N       ┆ 5120W      ┆ 01/1983    │\n",
       "│ 25%        ┆ null       ┆ null  ┆ null   ┆ … ┆ null       ┆ null       ┆ null       ┆ null       │\n",
       "│ 50%        ┆ null       ┆ null  ┆ null   ┆ … ┆ null       ┆ null       ┆ null       ┆ null       │\n",
       "│ 75%        ┆ null       ┆ null  ┆ null   ┆ … ┆ null       ┆ null       ┆ null       ┆ null       │\n",
       "│ max        ┆ 2018-07-19 ┆ WY    ┆ AWP    ┆ … ┆ 55058.*H   ┆ 71-17-05.5 ┆ 177-22-52. ┆ NA         │\n",
       "│            ┆            ┆       ┆        ┆   ┆            ┆ 000N       ┆ 7100W      ┆            │\n",
       "└────────────┴────────────┴───────┴────────┴───┴────────────┴────────────┴────────────┴────────────┘"
      ]
     },
     "execution_count": 1,
     "metadata": {},
     "output_type": "execute_result"
    }
   ],
   "source": [
    "import polars as pl\n",
    "\n",
    "df = pl.read_csv('../data/usairports.csv')\n",
    "df.describe()"
   ]
  },
  {
   "cell_type": "code",
   "execution_count": 15,
   "metadata": {},
   "outputs": [
    {
     "data": {
      "text/html": [
       "<div><style>\n",
       ".dataframe > thead > tr > th,\n",
       ".dataframe > tbody > tr > td {\n",
       "  text-align: right;\n",
       "  white-space: pre-wrap;\n",
       "}\n",
       "</style>\n",
       "<small>shape: (1, 1)</small><table border=\"1\" class=\"dataframe\"><thead><tr><th>arp_latitude</th></tr><tr><td>str</td></tr></thead><tbody><tr><td>&quot;71-17-05.5000N…</td></tr></tbody></table></div>"
      ],
      "text/plain": [
       "shape: (1, 1)\n",
       "┌────────────────┐\n",
       "│ arp_latitude   │\n",
       "│ ---            │\n",
       "│ str            │\n",
       "╞════════════════╡\n",
       "│ 71-17-05.5000N │\n",
       "└────────────────┘"
      ]
     },
     "execution_count": 15,
     "metadata": {},
     "output_type": "execute_result"
    }
   ],
   "source": [
    "latW = df.select(pl.col('arp_latitude')).max()\n",
    "latE = df.select(pl.col('arp_latitude')).min()\n",
    "lonN = df.select(pl.col('arp_longitude')).max()\n",
    "lonS = df.select(pl.col('arp_longitude')).min()\n",
    "\n",
    "latW"
   ]
  },
  {
   "cell_type": "code",
   "execution_count": null,
   "metadata": {},
   "outputs": [],
   "source": [
    "import cartopy.crs as ccrs\n",
    "import cartopy.feature as ccrf\n",
    "\n",
    "d"
   ]
  }
 ],
 "metadata": {
  "kernelspec": {
   "display_name": "Python 3",
   "language": "python",
   "name": "python3"
  },
  "language_info": {
   "codemirror_mode": {
    "name": "ipython",
    "version": 3
   },
   "file_extension": ".py",
   "mimetype": "text/x-python",
   "name": "python",
   "nbconvert_exporter": "python",
   "pygments_lexer": "ipython3",
   "version": "3.11.6"
  }
 },
 "nbformat": 4,
 "nbformat_minor": 2
}
