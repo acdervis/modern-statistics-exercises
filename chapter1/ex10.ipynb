{
 "cells": [
  {
   "cell_type": "markdown",
   "metadata": {},
   "source": [
    "## Exercise 10\n",
    "\n",
    "1. Experimental. Reserchers designed a trial with control and test groups.\n",
    "2. 2260 vaccinations of 12-15 years olds.\n",
    "3. The response variable is COVID-19 case(s) obeserved. Categorical / nominal."
   ]
  },
  {
   "cell_type": "code",
   "execution_count": 2,
   "metadata": {},
   "outputs": [
    {
     "data": {
      "text/html": [
       "<div><style>\n",
       ".dataframe > thead > tr > th,\n",
       ".dataframe > tbody > tr > td {\n",
       "  text-align: right;\n",
       "  white-space: pre-wrap;\n",
       "}\n",
       "</style>\n",
       "<small>shape: (9, 3)</small><table border=\"1\" class=\"dataframe\"><thead><tr><th>describe</th><th>group</th><th>outcome</th></tr><tr><td>str</td><td>str</td><td>str</td></tr></thead><tbody><tr><td>&quot;count&quot;</td><td>&quot;2260&quot;</td><td>&quot;2260&quot;</td></tr><tr><td>&quot;null_count&quot;</td><td>&quot;0&quot;</td><td>&quot;0&quot;</td></tr><tr><td>&quot;mean&quot;</td><td>null</td><td>null</td></tr><tr><td>&quot;std&quot;</td><td>null</td><td>null</td></tr><tr><td>&quot;min&quot;</td><td>&quot;placebo&quot;</td><td>&quot;COVID-19&quot;</td></tr><tr><td>&quot;25%&quot;</td><td>null</td><td>null</td></tr><tr><td>&quot;50%&quot;</td><td>null</td><td>null</td></tr><tr><td>&quot;75%&quot;</td><td>null</td><td>null</td></tr><tr><td>&quot;max&quot;</td><td>&quot;vaccine&quot;</td><td>&quot;no COVID-19&quot;</td></tr></tbody></table></div>"
      ],
      "text/plain": [
       "shape: (9, 3)\n",
       "┌────────────┬─────────┬─────────────┐\n",
       "│ describe   ┆ group   ┆ outcome     │\n",
       "│ ---        ┆ ---     ┆ ---         │\n",
       "│ str        ┆ str     ┆ str         │\n",
       "╞════════════╪═════════╪═════════════╡\n",
       "│ count      ┆ 2260    ┆ 2260        │\n",
       "│ null_count ┆ 0       ┆ 0           │\n",
       "│ mean       ┆ null    ┆ null        │\n",
       "│ std        ┆ null    ┆ null        │\n",
       "│ min        ┆ placebo ┆ COVID-19    │\n",
       "│ 25%        ┆ null    ┆ null        │\n",
       "│ 50%        ┆ null    ┆ null        │\n",
       "│ 75%        ┆ null    ┆ null        │\n",
       "│ max        ┆ vaccine ┆ no COVID-19 │\n",
       "└────────────┴─────────┴─────────────┘"
      ]
     },
     "execution_count": 2,
     "metadata": {},
     "output_type": "execute_result"
    }
   ],
   "source": [
    "import polars as pl\n",
    "\n",
    "df = pl.read_csv('../data/biontech_adolescents.csv')\n",
    "df.describe()"
   ]
  },
  {
   "cell_type": "markdown",
   "metadata": {},
   "source": [
    "4. Explanatory variables are outcome (categorical / nominal)."
   ]
  }
 ],
 "metadata": {
  "kernelspec": {
   "display_name": "Python 3",
   "language": "python",
   "name": "python3"
  },
  "language_info": {
   "codemirror_mode": {
    "name": "ipython",
    "version": 3
   },
   "file_extension": ".py",
   "mimetype": "text/x-python",
   "name": "python",
   "nbconvert_exporter": "python",
   "pygments_lexer": "ipython3",
   "version": "3.11.6"
  }
 },
 "nbformat": 4,
 "nbformat_minor": 2
}
