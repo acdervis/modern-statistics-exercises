{
 "cells": [
  {
   "cell_type": "markdown",
   "metadata": {},
   "source": [
    "# Exercise 7\n"
   ]
  },
  {
   "cell_type": "code",
   "execution_count": 7,
   "metadata": {},
   "outputs": [
    {
     "data": {
      "text/html": [
       "<div><style>\n",
       ".dataframe > thead > tr > th,\n",
       ".dataframe > tbody > tr > td {\n",
       "  text-align: right;\n",
       "  white-space: pre-wrap;\n",
       "}\n",
       "</style>\n",
       "<small>shape: (2, 3)</small><table border=\"1\" class=\"dataframe\"><thead><tr><th>group</th><th>no</th><th>yes</th></tr><tr><td>str</td><td>u32</td><td>u32</td></tr></thead><tbody><tr><td>&quot;treatment&quot;</td><td>33</td><td>10</td></tr><tr><td>&quot;control&quot;</td><td>44</td><td>2</td></tr></tbody></table></div>"
      ],
      "text/plain": [
       "shape: (2, 3)\n",
       "┌───────────┬─────┬─────┐\n",
       "│ group     ┆ no  ┆ yes │\n",
       "│ ---       ┆ --- ┆ --- │\n",
       "│ str       ┆ u32 ┆ u32 │\n",
       "╞═══════════╪═════╪═════╡\n",
       "│ treatment ┆ 33  ┆ 10  │\n",
       "│ control   ┆ 44  ┆ 2   │\n",
       "└───────────┴─────┴─────┘"
      ]
     },
     "execution_count": 7,
     "metadata": {},
     "output_type": "execute_result"
    }
   ],
   "source": [
    "import polars as pl\n",
    "\n",
    "df = pl.read_csv('../data/migraine.csv')\n",
    "\n",
    "# Print contingency table:\n",
    "df.pivot('pain_free', 'group', 'pain_free', 'count', sort_columns=True)\n"
   ]
  },
  {
   "cell_type": "code",
   "execution_count": 18,
   "metadata": {},
   "outputs": [
    {
     "data": {
      "text/html": [
       "<div><style>\n",
       ".dataframe > thead > tr > th,\n",
       ".dataframe > tbody > tr > td {\n",
       "  text-align: right;\n",
       "  white-space: pre-wrap;\n",
       "}\n",
       "</style>\n",
       "<small>shape: (2, 2)</small><table border=\"1\" class=\"dataframe\"><thead><tr><th>pain_free</th><th>count</th></tr><tr><td>str</td><td>f64</td></tr></thead><tbody><tr><td>&quot;yes&quot;</td><td>23.26</td></tr><tr><td>&quot;no&quot;</td><td>76.74</td></tr></tbody></table></div>"
      ],
      "text/plain": [
       "shape: (2, 2)\n",
       "┌───────────┬───────┐\n",
       "│ pain_free ┆ count │\n",
       "│ ---       ┆ ---   │\n",
       "│ str       ┆ f64   │\n",
       "╞═══════════╪═══════╡\n",
       "│ yes       ┆ 23.26 │\n",
       "│ no        ┆ 76.74 │\n",
       "└───────────┴───────┘"
      ]
     },
     "execution_count": 18,
     "metadata": {},
     "output_type": "execute_result"
    }
   ],
   "source": [
    "df.filter(pl.col('group') == 'treatment').group_by('pain_free').agg(pl.count().alias('count')).with_columns((pl.col('count') * 100 / pl.sum('count')).round(2))"
   ]
  },
  {
   "cell_type": "code",
   "execution_count": 17,
   "metadata": {},
   "outputs": [
    {
     "data": {
      "text/html": [
       "<div><style>\n",
       ".dataframe > thead > tr > th,\n",
       ".dataframe > tbody > tr > td {\n",
       "  text-align: right;\n",
       "  white-space: pre-wrap;\n",
       "}\n",
       "</style>\n",
       "<small>shape: (2, 2)</small><table border=\"1\" class=\"dataframe\"><thead><tr><th>pain_free</th><th>count</th></tr><tr><td>str</td><td>f64</td></tr></thead><tbody><tr><td>&quot;yes&quot;</td><td>4.35</td></tr><tr><td>&quot;no&quot;</td><td>95.65</td></tr></tbody></table></div>"
      ],
      "text/plain": [
       "shape: (2, 2)\n",
       "┌───────────┬───────┐\n",
       "│ pain_free ┆ count │\n",
       "│ ---       ┆ ---   │\n",
       "│ str       ┆ f64   │\n",
       "╞═══════════╪═══════╡\n",
       "│ yes       ┆ 4.35  │\n",
       "│ no        ┆ 95.65 │\n",
       "└───────────┴───────┘"
      ]
     },
     "execution_count": 17,
     "metadata": {},
     "output_type": "execute_result"
    }
   ],
   "source": [
    "df.filter(pl.col('group') == 'control').group_by('pain_free').agg(pl.count().alias('count')).with_columns((pl.col('count') * 100 / pl.sum('count')).round(2))"
   ]
  },
  {
   "cell_type": "markdown",
   "metadata": {},
   "source": [
    "Hence, 23.26% of the treatment group and %4.35 of the control group were pain free after 24 hrs.\n",
    "\n",
    "This is not sufficient to conclude that acupunture is a useful treatment. The results could be down to chance.\n",
    "\n",
    "#### Vars\n",
    "* Explanatory: Acupuncture treatment (y/n)\n",
    "* Response: Pain Free (y/n)"
   ]
  }
 ],
 "metadata": {
  "kernelspec": {
   "display_name": "Python 3",
   "language": "python",
   "name": "python3"
  },
  "language_info": {
   "codemirror_mode": {
    "name": "ipython",
    "version": 3
   },
   "file_extension": ".py",
   "mimetype": "text/x-python",
   "name": "python",
   "nbconvert_exporter": "python",
   "pygments_lexer": "ipython3",
   "version": "3.11.6"
  }
 },
 "nbformat": 4,
 "nbformat_minor": 2
}
