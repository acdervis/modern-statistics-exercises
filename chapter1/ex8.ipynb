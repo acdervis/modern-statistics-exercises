{
 "cells": [
  {
   "cell_type": "markdown",
   "metadata": {},
   "source": [
    "## Exercise 8"
   ]
  },
  {
   "cell_type": "code",
   "execution_count": 25,
   "metadata": {},
   "outputs": [
    {
     "data": {
      "text/html": [
       "<div>\n",
       "<style scoped>\n",
       "    .dataframe tbody tr th:only-of-type {\n",
       "        vertical-align: middle;\n",
       "    }\n",
       "\n",
       "    .dataframe tbody tr th {\n",
       "        vertical-align: top;\n",
       "    }\n",
       "\n",
       "    .dataframe thead th {\n",
       "        text-align: right;\n",
       "    }\n",
       "</style>\n",
       "<table border=\"1\" class=\"dataframe\">\n",
       "  <thead>\n",
       "    <tr style=\"text-align: right;\">\n",
       "      <th>self_reported_improvement</th>\n",
       "      <th>no</th>\n",
       "      <th>yes</th>\n",
       "    </tr>\n",
       "    <tr>\n",
       "      <th>group</th>\n",
       "      <th></th>\n",
       "      <th></th>\n",
       "    </tr>\n",
       "  </thead>\n",
       "  <tbody>\n",
       "    <tr>\n",
       "      <th>control</th>\n",
       "      <td>16</td>\n",
       "      <td>65</td>\n",
       "    </tr>\n",
       "    <tr>\n",
       "      <th>treatment</th>\n",
       "      <td>19</td>\n",
       "      <td>66</td>\n",
       "    </tr>\n",
       "  </tbody>\n",
       "</table>\n",
       "</div>"
      ],
      "text/plain": [
       "self_reported_improvement  no  yes\n",
       "group                             \n",
       "control                    16   65\n",
       "treatment                  19   66"
      ]
     },
     "execution_count": 25,
     "metadata": {},
     "output_type": "execute_result"
    }
   ],
   "source": [
    "import polars as pl\n",
    "import statsmodels.api as sm\n",
    "from statsmodels.graphics.mosaicplot import mosaic\n",
    "\n",
    "df = pl.read_csv('../data/sinusitis.csv')\n",
    "# df.pivot('self_reported_improvement', 'group', 'self_reported_improvement', 'count', sort_columns=True)\n",
    "t = sm.stats.Table.from_data(df.to_pandas())\n",
    "t.table_orig"
   ]
  },
  {
   "cell_type": "code",
   "execution_count": 21,
   "metadata": {},
   "outputs": [
    {
     "data": {
      "image/png": "[encoded data removed]",
      "text/plain": [
       "<Figure size 640x480 with 3 Axes>"
      ]
     },
     "metadata": {},
     "output_type": "display_data"
    }
   ],
   "source": [
    "m = mosaic(df.to_pandas(), index=['group', 'self_reported_improvement'])"
   ]
  },
  {
   "cell_type": "code",
   "execution_count": 27,
   "metadata": {},
   "outputs": [
    {
     "data": {
      "text/html": [
       "<div><style>\n",
       ".dataframe > thead > tr > th,\n",
       ".dataframe > tbody > tr > td {\n",
       "  text-align: right;\n",
       "  white-space: pre-wrap;\n",
       "}\n",
       "</style>\n",
       "<small>shape: (4, 3)</small><table border=\"1\" class=\"dataframe\"><thead><tr><th>group</th><th>self_reported_improvement</th><th>count</th></tr><tr><td>str</td><td>str</td><td>f64</td></tr></thead><tbody><tr><td>&quot;treatment&quot;</td><td>&quot;yes&quot;</td><td>77.65</td></tr><tr><td>&quot;control&quot;</td><td>&quot;no&quot;</td><td>19.75</td></tr><tr><td>&quot;treatment&quot;</td><td>&quot;no&quot;</td><td>22.35</td></tr><tr><td>&quot;control&quot;</td><td>&quot;yes&quot;</td><td>80.25</td></tr></tbody></table></div>"
      ],
      "text/plain": [
       "shape: (4, 3)\n",
       "┌───────────┬───────────────────────────┬───────┐\n",
       "│ group     ┆ self_reported_improvement ┆ count │\n",
       "│ ---       ┆ ---                       ┆ ---   │\n",
       "│ str       ┆ str                       ┆ f64   │\n",
       "╞═══════════╪═══════════════════════════╪═══════╡\n",
       "│ treatment ┆ yes                       ┆ 77.65 │\n",
       "│ control   ┆ no                        ┆ 19.75 │\n",
       "│ treatment ┆ no                        ┆ 22.35 │\n",
       "│ control   ┆ yes                       ┆ 80.25 │\n",
       "└───────────┴───────────────────────────┴───────┘"
      ]
     },
     "execution_count": 27,
     "metadata": {},
     "output_type": "execute_result"
    }
   ],
   "source": [
    "df.group_by(['group', 'self_reported_improvement'])\\\n",
    "  .agg(pl.count().alias('count'))\\\n",
    "  .with_columns((pl.col('count') * 100 / pl.sum('count')).over(\"group\").round(2))"
   ]
  },
  {
   "cell_type": "markdown",
   "metadata": {},
   "source": [
    "1. %77.65 in treatment group experienced improvement after 24 hrs.\n",
    "2. %80.25 in control group experienced improvement after 24 hrs\n",
    "3. Treatment\n",
    "4. It might be up to chance.\n",
    "5. * Explanatory: group\n",
    "   * Response: self_reported_improvement"
   ]
  }
 ],
 "metadata": {
  "kernelspec": {
   "display_name": "Python 3",
   "language": "python",
   "name": "python3"
  },
  "language_info": {
   "codemirror_mode": {
    "name": "ipython",
    "version": 3
   },
   "file_extension": ".py",
   "mimetype": "text/x-python",
   "name": "python",
   "nbconvert_exporter": "python",
   "pygments_lexer": "ipython3",
   "version": "3.11.6"
  }
 },
 "nbformat": 4,
 "nbformat_minor": 2
}
