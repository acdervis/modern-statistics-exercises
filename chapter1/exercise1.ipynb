{
 "cells": [
  {
   "cell_type": "code",
   "execution_count": 4,
   "metadata": {},
   "outputs": [
    {
     "data": {
      "text/html": [
       "<div><style>\n",
       ".dataframe > thead > tr > th,\n",
       ".dataframe > tbody > tr > td {\n",
       "  text-align: right;\n",
       "  white-space: pre-wrap;\n",
       "}\n",
       "</style>\n",
       "<small>shape: (9, 8)</small><table border=\"1\" class=\"dataframe\"><thead><tr><th>describe</th><th>movie</th><th>length_hrs</th><th>length_min</th><th>release_date</th><th>opening_weekend_us</th><th>gross_us</th><th>gross_world</th></tr><tr><td>str</td><td>str</td><td>f64</td><td>f64</td><td>str</td><td>f64</td><td>f64</td><td>f64</td></tr></thead><tbody><tr><td>&quot;count&quot;</td><td>&quot;23&quot;</td><td>23.0</td><td>23.0</td><td>&quot;23&quot;</td><td>23.0</td><td>23.0</td><td>23.0</td></tr><tr><td>&quot;null_count&quot;</td><td>&quot;0&quot;</td><td>0.0</td><td>0.0</td><td>&quot;0&quot;</td><td>0.0</td><td>0.0</td><td>0.0</td></tr><tr><td>&quot;mean&quot;</td><td>null</td><td>1.782609</td><td>23.304348</td><td>null</td><td>1.3510e8</td><td>3.7160e8</td><td>9.8211976e8</td></tr><tr><td>&quot;std&quot;</td><td>null</td><td>0.518435</td><td>20.6231</td><td>null</td><td>7.3435e7</td><td>1.8822e8</td><td>5.7695e8</td></tr><tr><td>&quot;min&quot;</td><td>&quot;Ant-Man&quot;</td><td>1.0</td><td>1.0</td><td>&quot;11/3/2017&quot;</td><td>5.541405e7</td><td>1.34806913e8</td><td>2.64770996e8</td></tr><tr><td>&quot;25%&quot;</td><td>null</td><td>1.0</td><td>6.0</td><td>null</td><td>8.5058311e7</td><td>2.1664874e8</td><td>6.22674139e8</td></tr><tr><td>&quot;50%&quot;</td><td>null</td><td>2.0</td><td>16.0</td><td>null</td><td>1.17027503e8</td><td>3.337186e8</td><td>8.53983829e8</td></tr><tr><td>&quot;75%&quot;</td><td>null</td><td>2.0</td><td>52.0</td><td>null</td><td>1.79139142e8</td><td>4.26829839e8</td><td>1.2148e9</td></tr><tr><td>&quot;max&quot;</td><td>&quot;Thor: The Dark…</td><td>3.0</td><td>58.0</td><td>&quot;8/1/2014&quot;</td><td>3.57115007e8</td><td>8.58373e8</td><td>2.7978e9</td></tr></tbody></table></div>"
      ],
      "text/plain": [
       "shape: (9, 8)\n",
       "┌────────────┬────────────┬────────────┬───────────┬───────────┬───────────┬───────────┬───────────┐\n",
       "│ describe   ┆ movie      ┆ length_hrs ┆ length_mi ┆ release_d ┆ opening_w ┆ gross_us  ┆ gross_wor │\n",
       "│ ---        ┆ ---        ┆ ---        ┆ n         ┆ ate       ┆ eekend_us ┆ ---       ┆ ld        │\n",
       "│ str        ┆ str        ┆ f64        ┆ ---       ┆ ---       ┆ ---       ┆ f64       ┆ ---       │\n",
       "│            ┆            ┆            ┆ f64       ┆ str       ┆ f64       ┆           ┆ f64       │\n",
       "╞════════════╪════════════╪════════════╪═══════════╪═══════════╪═══════════╪═══════════╪═══════════╡\n",
       "│ count      ┆ 23         ┆ 23.0       ┆ 23.0      ┆ 23        ┆ 23.0      ┆ 23.0      ┆ 23.0      │\n",
       "│ null_count ┆ 0          ┆ 0.0        ┆ 0.0       ┆ 0         ┆ 0.0       ┆ 0.0       ┆ 0.0       │\n",
       "│ mean       ┆ null       ┆ 1.782609   ┆ 23.304348 ┆ null      ┆ 1.3510e8  ┆ 3.7160e8  ┆ 9.8211976 │\n",
       "│            ┆            ┆            ┆           ┆           ┆           ┆           ┆ e8        │\n",
       "│ std        ┆ null       ┆ 0.518435   ┆ 20.6231   ┆ null      ┆ 7.3435e7  ┆ 1.8822e8  ┆ 5.7695e8  │\n",
       "│ min        ┆ Ant-Man    ┆ 1.0        ┆ 1.0       ┆ 11/3/2017 ┆ 5.541405e ┆ 1.3480691 ┆ 2.6477099 │\n",
       "│            ┆            ┆            ┆           ┆           ┆ 7         ┆ 3e8       ┆ 6e8       │\n",
       "│ 25%        ┆ null       ┆ 1.0        ┆ 6.0       ┆ null      ┆ 8.5058311 ┆ 2.1664874 ┆ 6.2267413 │\n",
       "│            ┆            ┆            ┆           ┆           ┆ e7        ┆ e8        ┆ 9e8       │\n",
       "│ 50%        ┆ null       ┆ 2.0        ┆ 16.0      ┆ null      ┆ 1.1702750 ┆ 3.337186e ┆ 8.5398382 │\n",
       "│            ┆            ┆            ┆           ┆           ┆ 3e8       ┆ 8         ┆ 9e8       │\n",
       "│ 75%        ┆ null       ┆ 2.0        ┆ 52.0      ┆ null      ┆ 1.7913914 ┆ 4.2682983 ┆ 1.2148e9  │\n",
       "│            ┆            ┆            ┆           ┆           ┆ 2e8       ┆ 9e8       ┆           │\n",
       "│ max        ┆ Thor: The  ┆ 3.0        ┆ 58.0      ┆ 8/1/2014  ┆ 3.5711500 ┆ 8.58373e8 ┆ 2.7978e9  │\n",
       "│            ┆ Dark World ┆            ┆           ┆           ┆ 7e8       ┆           ┆           │\n",
       "└────────────┴────────────┴────────────┴───────────┴───────────┴───────────┴───────────┴───────────┘"
      ]
     },
     "execution_count": 4,
     "metadata": {},
     "output_type": "execute_result"
    }
   ],
   "source": [
    "import polars as pl\n",
    "\n",
    "df = pl.read_csv('../data/mcu_films.csv')\n",
    "df.describe()"
   ]
  },
  {
   "cell_type": "code",
   "execution_count": 8,
   "metadata": {},
   "outputs": [
    {
     "name": "stdout",
     "output_type": "stream",
     "text": [
      "The dataframe consists of 23 observations and 7 variables.\n"
     ]
    }
   ],
   "source": [
    "observations, variables = df.shape\n",
    "print(f\"The dataframe consists of {observations} observations and {variables} variables.\")"
   ]
  }
 ],
 "metadata": {
  "kernelspec": {
   "display_name": "Python 3",
   "language": "python",
   "name": "python3"
  },
  "language_info": {
   "codemirror_mode": {
    "name": "ipython",
    "version": 3
   },
   "file_extension": ".py",
   "mimetype": "text/x-python",
   "name": "python",
   "nbconvert_exporter": "python",
   "pygments_lexer": "ipython3",
   "version": "3.11.6"
  }
 },
 "nbformat": 4,
 "nbformat_minor": 2
}
