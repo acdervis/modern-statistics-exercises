{
 "cells": [
  {
   "cell_type": "markdown",
   "metadata": {},
   "source": [
    "## Exercise 12"
   ]
  },
  {
   "cell_type": "code",
   "execution_count": 3,
   "metadata": {},
   "outputs": [
    {
     "data": {
      "text/html": [
       "<div><style>\n",
       ".dataframe > thead > tr > th,\n",
       ".dataframe > tbody > tr > td {\n",
       "  text-align: right;\n",
       "  white-space: pre-wrap;\n",
       "}\n",
       "</style>\n",
       "<small>shape: (5, 12)</small><table border=\"1\" class=\"dataframe\"><thead><tr><th>gender</th><th>age</th><th>marital_status</th><th>highest_qualification</th><th>nationality</th><th>ethnicity</th><th>gross_income</th><th>region</th><th>smoke</th><th>amt_weekends</th><th>amt_weekdays</th><th>type</th></tr><tr><td>str</td><td>i64</td><td>str</td><td>str</td><td>str</td><td>str</td><td>str</td><td>str</td><td>str</td><td>str</td><td>str</td><td>str</td></tr></thead><tbody><tr><td>&quot;Male&quot;</td><td>38</td><td>&quot;Divorced&quot;</td><td>&quot;No Qualificati…</td><td>&quot;British&quot;</td><td>&quot;White&quot;</td><td>&quot;2,600 to 5,200…</td><td>&quot;The North&quot;</td><td>&quot;No&quot;</td><td>&quot;NA&quot;</td><td>&quot;NA&quot;</td><td>null</td></tr><tr><td>&quot;Female&quot;</td><td>42</td><td>&quot;Single&quot;</td><td>&quot;No Qualificati…</td><td>&quot;British&quot;</td><td>&quot;White&quot;</td><td>&quot;Under 2,600&quot;</td><td>&quot;The North&quot;</td><td>&quot;Yes&quot;</td><td>&quot;12&quot;</td><td>&quot;12&quot;</td><td>&quot;Packets&quot;</td></tr><tr><td>&quot;Male&quot;</td><td>40</td><td>&quot;Married&quot;</td><td>&quot;Degree&quot;</td><td>&quot;English&quot;</td><td>&quot;White&quot;</td><td>&quot;28,600 to 36,4…</td><td>&quot;The North&quot;</td><td>&quot;No&quot;</td><td>&quot;NA&quot;</td><td>&quot;NA&quot;</td><td>null</td></tr><tr><td>&quot;Female&quot;</td><td>40</td><td>&quot;Married&quot;</td><td>&quot;Degree&quot;</td><td>&quot;English&quot;</td><td>&quot;White&quot;</td><td>&quot;10,400 to 15,6…</td><td>&quot;The North&quot;</td><td>&quot;No&quot;</td><td>&quot;NA&quot;</td><td>&quot;NA&quot;</td><td>null</td></tr><tr><td>&quot;Female&quot;</td><td>39</td><td>&quot;Married&quot;</td><td>&quot;GCSE/O Level&quot;</td><td>&quot;British&quot;</td><td>&quot;White&quot;</td><td>&quot;2,600 to 5,200…</td><td>&quot;The North&quot;</td><td>&quot;No&quot;</td><td>&quot;NA&quot;</td><td>&quot;NA&quot;</td><td>null</td></tr></tbody></table></div>"
      ],
      "text/plain": [
       "shape: (5, 12)\n",
       "┌────────┬─────┬───────────────┬───────────────┬───┬───────┬──────────────┬──────────────┬─────────┐\n",
       "│ gender ┆ age ┆ marital_statu ┆ highest_quali ┆ … ┆ smoke ┆ amt_weekends ┆ amt_weekdays ┆ type    │\n",
       "│ ---    ┆ --- ┆ s             ┆ fication      ┆   ┆ ---   ┆ ---          ┆ ---          ┆ ---     │\n",
       "│ str    ┆ i64 ┆ ---           ┆ ---           ┆   ┆ str   ┆ str          ┆ str          ┆ str     │\n",
       "│        ┆     ┆ str           ┆ str           ┆   ┆       ┆              ┆              ┆         │\n",
       "╞════════╪═════╪═══════════════╪═══════════════╪═══╪═══════╪══════════════╪══════════════╪═════════╡\n",
       "│ Male   ┆ 38  ┆ Divorced      ┆ No            ┆ … ┆ No    ┆ NA           ┆ NA           ┆ null    │\n",
       "│        ┆     ┆               ┆ Qualification ┆   ┆       ┆              ┆              ┆         │\n",
       "│ Female ┆ 42  ┆ Single        ┆ No            ┆ … ┆ Yes   ┆ 12           ┆ 12           ┆ Packets │\n",
       "│        ┆     ┆               ┆ Qualification ┆   ┆       ┆              ┆              ┆         │\n",
       "│ Male   ┆ 40  ┆ Married       ┆ Degree        ┆ … ┆ No    ┆ NA           ┆ NA           ┆ null    │\n",
       "│ Female ┆ 40  ┆ Married       ┆ Degree        ┆ … ┆ No    ┆ NA           ┆ NA           ┆ null    │\n",
       "│ Female ┆ 39  ┆ Married       ┆ GCSE/O Level  ┆ … ┆ No    ┆ NA           ┆ NA           ┆ null    │\n",
       "└────────┴─────┴───────────────┴───────────────┴───┴───────┴──────────────┴──────────────┴─────────┘"
      ]
     },
     "execution_count": 3,
     "metadata": {},
     "output_type": "execute_result"
    }
   ],
   "source": [
    "import polars as pl\n",
    "\n",
    "df = pl.read_csv('../data/smoking.csv')\n",
    "df.head()"
   ]
  },
  {
   "cell_type": "markdown",
   "metadata": {},
   "source": [
    "1. Each row represents a survey response.\n",
    "2. 1691 participants.\n",
    "3. * gender: Categorical / Nominal\n",
    "   * age: Numeric / Discrete\n",
    "   * marital_status: Categorical / Nominal\n",
    "   * highest_qualitifaction: Categorical / Ordinal\n",
    "   * nationality: Categorical / Nominal\n",
    "   * ethnicity: Categorical / Nominal\n",
    "   * gross_income: Categorical / Ordinal\n",
    "   * region: Categorical / Nominal\n",
    "   * smoke: Categorical / Nominal\n",
    "   * amnt_weekend: Numeric / Discrete (dependent on type)\n",
    "   * amnt_weekday: Numeric / Discrete (dependent on type)\n",
    "   * type: Categorical / Nominal"
   ]
  }
 ],
 "metadata": {
  "kernelspec": {
   "display_name": "Python 3",
   "language": "python",
   "name": "python3"
  },
  "language_info": {
   "codemirror_mode": {
    "name": "ipython",
    "version": 3
   },
   "file_extension": ".py",
   "mimetype": "text/x-python",
   "name": "python",
   "nbconvert_exporter": "python",
   "pygments_lexer": "ipython3",
   "version": "3.11.6"
  }
 },
 "nbformat": 4,
 "nbformat_minor": 2
}
