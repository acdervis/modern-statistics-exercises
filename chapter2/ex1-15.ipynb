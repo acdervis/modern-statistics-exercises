{
 "cells": [
  {
   "cell_type": "markdown",
   "metadata": {},
   "source": [
    "## Exercise 1\n",
    "\n",
    "1. * Claimed mean ($\\mu_{2007}$): $52\n",
    "   * Sample mean ($\\bar{x}_{2008}$): $58\n",
    "2. * Claimed mean ($\\mu_{2001}$): 3.37\n",
    "   * Sample mean ($\\bar{x}_{2011}$): 3.59"
   ]
  },
  {
   "cell_type": "markdown",
   "metadata": {},
   "source": [
    "## Exercise 2\n",
    "\n",
    "1. * Claimed mean ($\\mu$): 5.5 hrs\n",
    "   * Claimed mean ($\\bar{x}_{}$): 6.25 hrs"
   ]
  },
  {
   "cell_type": "markdown",
   "metadata": {},
   "source": [
    "## Exercise 3\n",
    "\n",
    "1. * Population: all births\n",
    "   * Sample: 143,196 births between 1989 and 1993 in SoCal\n",
    "2. If the births measured are representative of the entire region, the study is generalizable to all births in the region. Asserting causal relationships wouldn't be sensible because the study is observational and should be replicated in an appropriate experiment."
   ]
  },
  {
   "cell_type": "markdown",
   "metadata": {},
   "source": [
    "## Exercise 4\n",
    "1. * Population: Children, limited by the locale and culture being sampled from.\n",
    "   * Sample: 160 children between the ages of 5 and 15.\n",
    "2. If the sampled children can be considered representative of the region/country, the study's results could be generalizable. The study could be used to establish causal relationships if it can control for confounding variables."
   ]
  },
  {
   "cell_type": "markdown",
   "metadata": {},
   "source": [
    "## Exercise 5\n",
    "1. * Population: College students taking Statistics.\n",
    "   * Sample: 365 college students in a Statistics course.\n",
    "2. If the students can be considered representative of all college students taking Statistics, then the results are generalizable. However these students are not randomly sampled, and there may be a bias toward a select few majors overrepresented by the college. The study can be used to establish causal relationships because it's an experiment."
   ]
  },
  {
   "cell_type": "markdown",
   "metadata": {},
   "source": [
    "## Exercise 6\n",
    "\n",
    "1. * Population: Undergrads\n",
    "   * Sample: 129 University of California undergrads at Berkeley.\n",
    "2. If the sample is deemed representative of all university graduates in California, the study can be generalized. The sample's specificity makes this difficult. The findings can't be used to draw causal relationships because it's an observational study. (???)"
   ]
  },
  {
   "cell_type": "markdown",
   "metadata": {},
   "source": [
    "## Exercise 7\n",
    "\n",
    "1. an observation\n",
    "2. a variable\n",
    "3. a sample statistic\n",
    "4. a population parameter"
   ]
  },
  {
   "cell_type": "markdown",
   "metadata": {},
   "source": [
    "## Exercise 8\n",
    "\n",
    "1. a population parameter\n",
    "2. a sample statistic\n",
    "3. an observation\n",
    "4. a population parameter"
   ]
  },
  {
   "cell_type": "markdown",
   "metadata": {},
   "source": [
    "## Exercise 9\n",
    "\n",
    "1. observational\n",
    "2. stratified sampling"
   ]
  },
  {
   "cell_type": "markdown",
   "metadata": {},
   "source": [
    "## Exercise 10\n",
    "\n",
    "1. observational\n",
    "2. stratified sampling"
   ]
  },
  {
   "cell_type": "markdown",
   "metadata": {},
   "source": [
    "## Exercise 11\n",
    "\n",
    "1. Eyeballing: Positive, non-linear.\n",
    "2. observational\n",
    "3. GDP per capita would explain both better medical care as well as better infrastructure and disposable income for internet access."
   ]
  },
  {
   "cell_type": "markdown",
   "metadata": {},
   "source": [
    "## Exercise 12\n",
    "\n",
    "1. observational\n",
    "2. No. Setting up an experiment would be best.\n",
    "3. Sleep deprivation or increased coffee consumption might also be causing increased muscle cramps."
   ]
  },
  {
   "cell_type": "markdown",
   "metadata": {},
   "source": [
    "## Exercise 13\n",
    "\n",
    "1. Reasonable. Simple and straightforward.\n",
    "2. Reasonable. This might minimized the effect of biases/confounding variables that also effect major selection.\n",
    "3. Not reasonable. The sample sizes between the clusters may vary wildly and leaving out various age clusters may leave out valuable information. E.g. Students of the same age group may have similar opinions and we'd be leaving entire chunks unobserved."
   ]
  },
  {
   "cell_type": "markdown",
   "metadata": {},
   "source": [
    "## Exercise 14\n",
    "\n",
    "The phone book is edited and being in it may have a barrier to entry. E.g. This may introduce biases toward wealthier households."
   ]
  },
  {
   "cell_type": "markdown",
   "metadata": {},
   "source": [
    "## Exercise 15\n",
    "\n",
    "1. A participant's evaluation of subjects and products.\n",
    "2. Participant's reaction to microwave oven.\n",
    "3. Participant's reaction to various subjects.\n",
    "4. Yes. The researchers have recruited online using Amazon's Mechanical Turk.\n",
    "5. An observational study, no random assignment.\n",
    "6. No, this is not an experimental study.\n",
    "7. Yes, as long as we accept the random sampling as random."
   ]
  }
 ],
 "metadata": {
  "kernelspec": {
   "display_name": "Python 3",
   "language": "python",
   "name": "python3"
  },
  "language_info": {
   "name": "python",
   "version": "3.11.6"
  }
 },
 "nbformat": 4,
 "nbformat_minor": 2
}
