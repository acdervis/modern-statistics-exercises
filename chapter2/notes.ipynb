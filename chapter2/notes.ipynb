{
 "cells": [
  {
   "cell_type": "markdown",
   "metadata": {},
   "source": [
    "## Four Sampling Methods\n",
    "\n",
    "### Simple Random Sampling\n",
    "Like picking pieces paper out of a hat. Crucially \"simple random\" should have these characteristics:\n",
    "* Each member of the population has equal chance to be selected.\n",
    "* A case in the sample gives no information about which other cases might be in the sample too.\n",
    "\n",
    "### Stratified Sampling\n",
    "Population is divided into groups called *strata* to ensure variety. The idea is to cut through different sections of the population first, then sample them individually (typically random sampling). Afterward, we have to reconcile the samples of each stratum. This requires various advanced techniques.\n",
    "\n",
    "### Cluster Sampling\n",
    "Population is broken up into various *clusters*. We then sample a number of these clusters and include all observations from these clusters in our sample.\n",
    "\n",
    "### Multistage Sampling\n",
    "Population is broken up into various *clusters*. We then sample a subset of each cluster rather than all of each cluster.\n",
    "\n",
    "E.g. We want to see malaria prevalence in an Indonesian jungle with 30 villages which are similar. If we use random sampling, it'd be expensive to sample from all villages. Stratified sampling doesn't make a lot of sense because we don't know how to group like individuals. Cluster and multistage sampling make sense. We can treat each village as a cluster and use advanced methods to draw conclusions, substantially lowering costs."
   ]
  },
  {
   "cell_type": "markdown",
   "metadata": {},
   "source": [
    "## Experiments\n",
    "\n",
    "If cases are assigned \"treatments\" based on random selection, this is a *randomized experiment*. Randomized experiments are important to show causal relationships.\n",
    "\n",
    "### Design Principles\n",
    "\n",
    "* **Controlling**: Try to eliminate differences between cases except for the factor being researched.\n",
    "* **Randomization**: Try to spread factors that we can't control around. E.g. dietary habits are hard to control, so we try to distribute cases randomly to decrease its effect as a *confounding variable*.\n",
    "* **Replication**: More observations equals more accurate estimations. In a single study, this means collecting a large enough sample. Alternatively we may replicate entire studies. There is an ongoing *replication crisis* in various fields where past studies have not been succesfully replicated. *Pseudoreplication* is when heavily interdependent observations are treated as independent. E.g. When you measure the blood pressure of 50 patients 10 times and report this as 500 observations.\n",
    "* **Blocking**: If we suspect that other variables have an effect, we can try to manage these by splitting them into blocks. E.g. We are researching a drug's effect on heart attacks but we suspect that the prevalence of heart disease is also a big factor. We can split the sample into two blocks based on prevalence of heart disease, then split each block between control and treatment groups.\n",
    "\n",
    "Controlling, randomization and replication are essential for any experiment.\n",
    "\n",
    "### Eliminating Bias\n",
    "\n",
    "Randomized experiments are the gold standard. Bias creeps in regardless, both from those conducting the study as well as the subjects of study. We can try and eliminate these at the source like running double-blind medical trials where both the patient and doctors don't know who is getting the real treatment."
   ]
  },
  {
   "cell_type": "markdown",
   "metadata": {},
   "source": [
    "## Observational Studies\n",
    "\n",
    "Observational data is data that has not been collected as part of a designed randomized experiment. For example, we can derive valuable information from meteorological data which is a collection of measurements of natural processes.\n",
    "\n",
    "To make causal conclusions on this kind of data is possible because we can assign explanatory variables ad-hoc. However, doing this can be treacherous. It is best to show associations and verify causal relationships with experiments.\n",
    "\n",
    "*Confounding variables* inhibit our ability to draw conclusions. E.g. If we measure suncreen use and skin cancer rates, the confounding variable of how much sun exposure our cases were subjected to renders us unable to answer the question \"What effect does sunscreen use have on skin cancer prevalence?\"\n",
    "\n",
    "* Prospective Studies: Collect data as the events are taking place. E.g. We follow many patients over the years. Or we follow a population by conducting regular questionnaries.\n",
    "* Retrospective Studies: Collect data after the events have taken place. E.g. Using medical records to draw conclusions."
   ]
  }
 ],
 "metadata": {
  "language_info": {
   "name": "python"
  }
 },
 "nbformat": 4,
 "nbformat_minor": 2
}
